{
 "cells": [
  {
   "cell_type": "code",
   "execution_count": null,
   "id": "c991b4e1",
   "metadata": {},
   "outputs": [],
   "source": [
    "import requests\n",
    "import matplotlib.pyplot as plt\n",
    "import pandas as pd\n",
    "import json\n",
    "import re\n",
    "from requests.auth import HTTPBasicAuth\n",
    "from pandas import json_normalize"
   ]
  },
  {
   "cell_type": "code",
   "execution_count": null,
   "id": "3f7f7263",
   "metadata": {},
   "outputs": [],
   "source": [
    "with open('../data/keys.json') as fi:\n",
    "    credentials = json.load(fi)"
   ]
  },
  {
   "cell_type": "code",
   "execution_count": null,
   "id": "4f5b5128",
   "metadata": {},
   "outputs": [],
   "source": [
    "api_key = credentials['etsy_key']"
   ]
  },
  {
   "cell_type": "code",
   "execution_count": null,
   "id": "8488f797",
   "metadata": {},
   "outputs": [],
   "source": [
    "url = 'https://api.etsy.com/v3/application/listings/active'\n",
    "response = requests.get(url, headers={\"x-api-key\": api_key}, params={'keywords': 'calligraphy', 'sort_order': 'ascending', 'limit': 100})\n",
    "data = response.json()#['results']\n",
    "data"
   ]
  }
 ],
 "metadata": {
  "kernelspec": {
   "display_name": "Python 3 (ipykernel)",
   "language": "python",
   "name": "python3"
  },
  "language_info": {
   "codemirror_mode": {
    "name": "ipython",
    "version": 3
   },
   "file_extension": ".py",
   "mimetype": "text/x-python",
   "name": "python",
   "nbconvert_exporter": "python",
   "pygments_lexer": "ipython3",
   "version": "3.9.7"
  }
 },
 "nbformat": 4,
 "nbformat_minor": 5
}
