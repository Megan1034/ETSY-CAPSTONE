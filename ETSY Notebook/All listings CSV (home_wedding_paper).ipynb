{
 "cells": [
  {
   "cell_type": "code",
   "execution_count": 23,
   "id": "039b4558",
   "metadata": {},
   "outputs": [],
   "source": [
    "import requests\n",
    "import matplotlib.pyplot as plt\n",
    "import pandas as pd\n",
    "import json\n",
    "import re\n",
    "from requests.auth import HTTPBasicAuth\n",
    "from pandas import json_normalize"
   ]
  },
  {
   "cell_type": "code",
   "execution_count": null,
   "id": "2287603c",
   "metadata": {},
   "outputs": [],
   "source": [
    "pnp_etsy_csv = pd.read_csv(\"..\\data\\listings_paper.csv\")\n",
    "pnp_etsy_csv"
   ]
  },
  {
   "cell_type": "code",
   "execution_count": null,
   "id": "f0d4524c",
   "metadata": {},
   "outputs": [],
   "source": [
    "home_etsy_csv = pd.read_csv(\"..\\data\\listings_home.csv\")\n",
    "home_etsy_csv"
   ]
  },
  {
   "cell_type": "code",
   "execution_count": null,
   "id": "a8c9a579",
   "metadata": {},
   "outputs": [],
   "source": [
    "wed_etsy_csv = pd.read_csv(\"..\\data\\listings_wed.csv\")\n",
    "wed_etsy_csv"
   ]
  },
  {
   "cell_type": "code",
   "execution_count": null,
   "id": "39475d95",
   "metadata": {},
   "outputs": [],
   "source": [
    "pdList = [pnp_etsy_csv, home_etsy_csv, wed_etsy_csv]  # List of your dataframes\n",
    "new_df = pd.concat(pdList)\n",
    "new_df"
   ]
  },
  {
   "cell_type": "code",
   "execution_count": null,
   "id": "cccba57f",
   "metadata": {},
   "outputs": [],
   "source": [
    "len(new_df['listing_id'].unique())"
   ]
  },
  {
   "cell_type": "code",
   "execution_count": null,
   "id": "fe0043a2",
   "metadata": {},
   "outputs": [],
   "source": [
    "len(new_df['shop_id'].unique())"
   ]
  },
  {
   "cell_type": "code",
   "execution_count": null,
   "id": "11253ad5",
   "metadata": {},
   "outputs": [],
   "source": [
    "new_df['creation_timestamp'] = pd.to_datetime(new_df['creation_timestamp'], unit='s')\n",
    "\n",
    "new_df['created_timestamp'] = pd.to_datetime(new_df['created_timestamp'], unit='s')\n",
    "\n",
    "new_df['ending_timestamp'] = pd.to_datetime(new_df['ending_timestamp'], unit='s')\n",
    "\n",
    "new_df['original_creation_timestamp'] = pd.to_datetime(new_df['original_creation_timestamp'], unit='s')\n",
    "\n",
    "new_df['last_modified_timestamp'] = pd.to_datetime(new_df['last_modified_timestamp'], unit='s')\n",
    "\n",
    "new_df['updated_timestamp'] = pd.to_datetime(new_df['updated_timestamp'], unit='s')\n",
    "\n",
    "new_df['state_timestamp'] = pd.to_datetime(new_df['state_timestamp'], unit='s')\n",
    "new_df.head()"
   ]
  },
  {
   "cell_type": "code",
   "execution_count": null,
   "id": "d9503858",
   "metadata": {},
   "outputs": [],
   "source": [
    "new_df=new_df.reset_index()"
   ]
  },
  {
   "cell_type": "code",
   "execution_count": null,
   "id": "5bf298d2",
   "metadata": {
    "scrolled": true
   },
   "outputs": [],
   "source": [
    "new_df"
   ]
  },
  {
   "cell_type": "code",
   "execution_count": null,
   "id": "5ab403bf",
   "metadata": {
    "scrolled": true
   },
   "outputs": [],
   "source": [
    "no_dup_listing = new_df.drop_duplicates(subset=['listing_id', 'shop_id', 'taxonomy_id'])\n",
    "no_dup_listing = no_dup_listing.reset_index(drop=True)\n",
    "no_dup_listing['listing_id'].value_counts()"
   ]
  },
  {
   "cell_type": "code",
   "execution_count": null,
   "id": "6e73d0ce",
   "metadata": {},
   "outputs": [],
   "source": [
    "pd.set_option('display.max_columns', None)\n",
    "pd.set_option('display.max_rows', None)\n",
    "no_dup_listing"
   ]
  },
  {
   "cell_type": "code",
   "execution_count": null,
   "id": "2cc313f6",
   "metadata": {},
   "outputs": [],
   "source": [
    "all_df['languages'] = all_df['languages'].str.replace('[','')\n",
    "all_df['languages'] = all_df['languages'].str.replace(']','')\n",
    "all_df['languages'] = all_df['languages'].str.replace(\"'\",'')\n",
    "all_df['languages'] = all_df['languages'].str.replace(\"'\",'')"
   ]
  },
  {
   "cell_type": "code",
   "execution_count": null,
   "id": "caeb75f3",
   "metadata": {},
   "outputs": [],
   "source": []
  },
  {
   "cell_type": "code",
   "execution_count": null,
   "id": "06d71a3f",
   "metadata": {},
   "outputs": [],
   "source": [
    "new_df.to_csv('new_df.csv')"
   ]
  },
  {
   "cell_type": "code",
   "execution_count": null,
   "id": "8c74d731",
   "metadata": {},
   "outputs": [],
   "source": [
    "no_dup_listing.to_csv('no_dup_listing.csv')"
   ]
  },
  {
   "cell_type": "code",
   "execution_count": null,
   "id": "d0ad1350",
   "metadata": {},
   "outputs": [],
   "source": []
  }
 ],
 "metadata": {
  "kernelspec": {
   "display_name": "Python 3 (ipykernel)",
   "language": "python",
   "name": "python3"
  },
  "language_info": {
   "codemirror_mode": {
    "name": "ipython",
    "version": 3
   },
   "file_extension": ".py",
   "mimetype": "text/x-python",
   "name": "python",
   "nbconvert_exporter": "python",
   "pygments_lexer": "ipython3",
   "version": "3.9.7"
  }
 },
 "nbformat": 4,
 "nbformat_minor": 5
}
