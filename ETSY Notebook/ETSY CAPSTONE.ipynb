{
 "cells": [
  {
   "cell_type": "code",
   "execution_count": 1,
   "id": "a1ed6990",
   "metadata": {},
   "outputs": [],
   "source": [
    "import requests\n",
    "import matplotlib.pyplot as plt\n",
    "import pandas as pd\n",
    "import json\n",
    "from requests.auth import HTTPBasicAuth\n",
    "from pandas import json_normalize"
   ]
  },
  {
   "cell_type": "code",
   "execution_count": 2,
   "id": "35f9e990",
   "metadata": {},
   "outputs": [],
   "source": [
    "with open('../data/keys.json') as fi:\n",
    "    credentials = json.load(fi)"
   ]
  },
  {
   "cell_type": "code",
   "execution_count": 3,
   "id": "0afcab24",
   "metadata": {},
   "outputs": [],
   "source": [
    "api_key = credentials['etsy_key']"
   ]
  },
  {
   "cell_type": "code",
   "execution_count": 9,
   "id": "55f4ff6b",
   "metadata": {},
   "outputs": [],
   "source": [
    "url4 = f'https://openapi.etsy.com/v3/application/listings?state=active&limit=50&offset=100'\n",
    "headers = {\n",
    "    \"x-api-key\": api_key}"
   ]
  },
  {
   "cell_type": "code",
   "execution_count": 10,
   "id": "1a24448b",
   "metadata": {},
   "outputs": [
    {
     "data": {
      "text/plain": [
       "{'error': 'Resource not found'}"
      ]
     },
     "execution_count": 10,
     "metadata": {},
     "output_type": "execute_result"
    }
   ],
   "source": [
    "response = requests.get(url4, headers={\"x-api-key\": api_key})\n",
    "v4 = response.json() #['results']\n",
    "v4"
   ]
  },
  {
   "cell_type": "code",
   "execution_count": null,
   "id": "c8ed516b",
   "metadata": {},
   "outputs": [],
   "source": [
    "URL3 = 'https://api.etsy.com/v3/application/listings?state=active&limit=50&offset=0'\n",
    "response = requests.get(URL3)\n",
    "v3 = response.json() #['results']\n",
    "v3"
   ]
  },
  {
   "cell_type": "code",
   "execution_count": null,
   "id": "4951685c",
   "metadata": {},
   "outputs": [],
   "source": [
    "url = 'https://openapi.etsy.com/v2/listings/active?api_key='+api_key\n",
    "response = requests.get(url)\n",
    "data = response.json() #['count']\n",
    "data"
   ]
  },
  {
   "cell_type": "code",
   "execution_count": null,
   "id": "6f389fcb",
   "metadata": {},
   "outputs": [],
   "source": [
    "url = 'https://openapi.etsy.com/v2?api_key='+api_key\n",
    "response = requests.get(url)\n",
    "unknown = response.json()['results']\n",
    "unknown"
   ]
  },
  {
   "cell_type": "code",
   "execution_count": null,
   "id": "af13c47f",
   "metadata": {},
   "outputs": [],
   "source": [
    "results=pd.DataFrame(data)\n",
    "results"
   ]
  },
  {
   "cell_type": "markdown",
   "id": "4fae4da9",
   "metadata": {},
   "source": [
    "url_limits = 'https://openapi.etsy.com/v2/listings/active?limit=50&offset=0$api_key=+api_key\n",
    "response = requests.get(url_limits)\n",
    "response"
   ]
  },
  {
   "cell_type": "markdown",
   "id": "1e625c68",
   "metadata": {},
   "source": [
    "client = (url, api_key)\n",
    "client\n",
    "URL3 = 'https://api.etsy.com/v3/application/listings?state=active&limit=50&offset=0'"
   ]
  },
  {
   "cell_type": "code",
   "execution_count": null,
   "id": "89166eaf",
   "metadata": {},
   "outputs": [],
   "source": [
    "start = 0             # Start at 0\n",
    "chunk_size = 100     # Fetch 100 rows at a time\n",
    "results =[]           # Empty out our result list\n",
    "while True:\n",
    "     # Fetch the set of records starting at 'start'\n",
    "     client.get(url,offset=start, limit=chunk_size)\n",
    "     # Move up the starting record\n",
    "     start = start + chunk_size\n",
    "     # If we have fetched all of the records, bail out\n",
    "     if (start > int(count[0]['COUNT']) ):\n",
    "        break\n",
    " Convert the list into a data frame\n",
    "df = pd.DataFrame.from_records(results)\n"
   ]
  },
  {
   "cell_type": "markdown",
   "id": "bd7847bc",
   "metadata": {},
   "source": [
    "def jprint(obj):\n",
    "\n",
    "    # create a formatted string of the Python JSON object\n",
    "    text = json.dumps(obj, sort_keys=True, indent=4)\n",
    "    print(text)\n",
    "\n",
    "jprint(response.json())"
   ]
  },
  {
   "cell_type": "code",
   "execution_count": null,
   "id": "70d39f45",
   "metadata": {},
   "outputs": [],
   "source": [
    "#response.text #--- dont need"
   ]
  },
  {
   "cell_type": "code",
   "execution_count": null,
   "id": "b7ed68ec",
   "metadata": {},
   "outputs": [],
   "source": [
    "data.keys()"
   ]
  },
  {
   "cell_type": "code",
   "execution_count": null,
   "id": "a7b60f66",
   "metadata": {},
   "outputs": [],
   "source": [
    "data['count']"
   ]
  },
  {
   "cell_type": "code",
   "execution_count": null,
   "id": "bcd78539",
   "metadata": {},
   "outputs": [],
   "source": [
    "data['results']"
   ]
  },
  {
   "cell_type": "code",
   "execution_count": null,
   "id": "94cfd186",
   "metadata": {},
   "outputs": [],
   "source": [
    "sv=sorted(data['params'])\n",
    "sv"
   ]
  },
  {
   "cell_type": "code",
   "execution_count": null,
   "id": "9a8f1cec",
   "metadata": {},
   "outputs": [],
   "source": [
    "params=data['params']\n",
    "print((key, value) for (key, value) in sorted(params.items(), key=lambda x: x[1]))"
   ]
  },
  {
   "cell_type": "code",
   "execution_count": null,
   "id": "be588220",
   "metadata": {},
   "outputs": [],
   "source": [
    "data['type']"
   ]
  },
  {
   "cell_type": "code",
   "execution_count": null,
   "id": "02882606",
   "metadata": {},
   "outputs": [],
   "source": [
    "data['pagination']"
   ]
  },
  {
   "cell_type": "code",
   "execution_count": null,
   "id": "ff760ad4",
   "metadata": {},
   "outputs": [],
   "source": [
    "etsy_contents_df = pd.DataFrame(contents)\n",
    "etsy_contents_df"
   ]
  },
  {
   "cell_type": "markdown",
   "id": "2f9977e7",
   "metadata": {},
   "source": [
    "epoint='https://api.etsy.com/v3/application/listings?state=active'\n",
    "response = requests.get(epoint) \n",
    "response"
   ]
  },
  {
   "cell_type": "markdown",
   "id": "2ec45d11",
   "metadata": {},
   "source": [
    "IDK HOW TO MAKE THIS WORK.... IVE BEEN READING MOST OF TODAY :("
   ]
  },
  {
   "cell_type": "code",
   "execution_count": null,
   "id": "a1796a41",
   "metadata": {},
   "outputs": [],
   "source": [
    "# https://api.etsy.com/v3/application/listings?state=active&limit=50&offset=0\n"
   ]
  },
  {
   "cell_type": "code",
   "execution_count": null,
   "id": "45db142d",
   "metadata": {},
   "outputs": [],
   "source": []
  }
 ],
 "metadata": {
  "kernelspec": {
   "display_name": "Python 3 (ipykernel)",
   "language": "python",
   "name": "python3"
  },
  "language_info": {
   "codemirror_mode": {
    "name": "ipython",
    "version": 3
   },
   "file_extension": ".py",
   "mimetype": "text/x-python",
   "name": "python",
   "nbconvert_exporter": "python",
   "pygments_lexer": "ipython3",
   "version": "3.9.7"
  }
 },
 "nbformat": 4,
 "nbformat_minor": 5
}
