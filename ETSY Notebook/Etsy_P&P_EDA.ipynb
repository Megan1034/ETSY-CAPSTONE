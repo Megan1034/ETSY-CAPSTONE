{
 "cells": [
  {
   "cell_type": "code",
   "execution_count": 19,
   "id": "a7621f5f",
   "metadata": {},
   "outputs": [],
   "source": [
    "import requests\n",
    "import matplotlib.pyplot as plt\n",
    "import pandas as pd\n",
    "import json\n",
    "import re\n",
    "from requests.auth import HTTPBasicAuth\n",
    "from pandas import json_normalize\n",
    "pd.set_option('display.max_columns', None)\n",
    "pd.set_option('display.max_rows', None)"
   ]
  },
  {
   "cell_type": "code",
   "execution_count": null,
   "id": "cd9f4ae8",
   "metadata": {},
   "outputs": [],
   "source": [
    "PnP_etsy_csv = pd.read_csv(\"..\\data\\paper_listings.csv\")\n",
    "PnP_etsy_csv"
   ]
  },
  {
   "cell_type": "code",
   "execution_count": null,
   "id": "fe1022a0",
   "metadata": {},
   "outputs": [],
   "source": [
    "PnP_etsy_csv.info()"
   ]
  },
  {
   "cell_type": "code",
   "execution_count": null,
   "id": "8ab632cc",
   "metadata": {},
   "outputs": [],
   "source": [
    "unique_paper_id = PnP_etsy_csv['shop_id'].to_list()\n",
    "unique_paper_id"
   ]
  },
  {
   "cell_type": "code",
   "execution_count": null,
   "id": "ca002f84",
   "metadata": {},
   "outputs": [],
   "source": [
    "type(unique_paper_id)"
   ]
  },
  {
   "cell_type": "code",
   "execution_count": null,
   "id": "63e78da5",
   "metadata": {},
   "outputs": [],
   "source": [
    "len(unique_paper_id)"
   ]
  },
  {
   "cell_type": "code",
   "execution_count": null,
   "id": "a6037230",
   "metadata": {},
   "outputs": [],
   "source": [
    "output = []\n",
    "for x in unique_paper_id:\n",
    "    if x not in output:\n",
    "        output.append(x)\n",
    "output"
   ]
  },
  {
   "cell_type": "code",
   "execution_count": null,
   "id": "94d0cd12",
   "metadata": {},
   "outputs": [],
   "source": [
    "len(output)"
   ]
  },
  {
   "cell_type": "code",
   "execution_count": null,
   "id": "063f06ae",
   "metadata": {},
   "outputs": [],
   "source": []
  },
  {
   "cell_type": "code",
   "execution_count": null,
   "id": "a346713f",
   "metadata": {},
   "outputs": [],
   "source": [
    "with open('../data/keys.json') as fi:\n",
    "    credentials = json.load(fi)"
   ]
  },
  {
   "cell_type": "code",
   "execution_count": null,
   "id": "ca45dee6",
   "metadata": {},
   "outputs": [],
   "source": [
    "api_key = credentials['etsy_key']"
   ]
  },
  {
   "cell_type": "code",
   "execution_count": null,
   "id": "99501c0c",
   "metadata": {},
   "outputs": [],
   "source": [
    "shop_id_listings = []\n",
    "\n",
    "for x in unique_shop_id:\n",
    "    url_shop_id = 'https://api.etsy.com/v3/application/shops/%s'%x\n",
    "    response_shop = requests.get(url_shop_id, headers={\"x-api-key\": api_key}, \n",
    "        params={#'keywords': ['calligraphy', 'handwritten', 'handlettering', 'handlettered', 'hand lettered'], \n",
    "                'sort_order': 'ascending', \n",
    "                'limit': 100})\n",
    "               #'taxonomy_id': [1250, 1330, 1331, 1334]\n",
    "    data_shop = response_shop.json()#['results']\n",
    "    shop_id_listings.append(data_shop)"
   ]
  }
 ],
 "metadata": {
  "kernelspec": {
   "display_name": "Python 3 (ipykernel)",
   "language": "python",
   "name": "python3"
  },
  "language_info": {
   "codemirror_mode": {
    "name": "ipython",
    "version": 3
   },
   "file_extension": ".py",
   "mimetype": "text/x-python",
   "name": "python",
   "nbconvert_exporter": "python",
   "pygments_lexer": "ipython3",
   "version": "3.9.7"
  }
 },
 "nbformat": 4,
 "nbformat_minor": 5
}
